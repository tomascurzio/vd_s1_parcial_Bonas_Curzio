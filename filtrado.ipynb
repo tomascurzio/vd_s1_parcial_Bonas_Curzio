{
 "cells": [
  {
   "cell_type": "code",
   "execution_count": 5,
   "metadata": {},
   "outputs": [
    {
     "data": {
      "text/plain": [
       "(599542, 17)"
      ]
     },
     "execution_count": 5,
     "metadata": {},
     "output_type": "execute_result"
    }
   ],
   "source": [
    "import pandas as pd\n",
    "df = pd.read_csv('sistema-unico-de-atencion-ciudadana-2021.csv', delimiter=';',low_memory=False)\n",
    "df['subcategoria'] = df['subcategoria'].str.upper()\n",
    "df.shape"
   ]
  },
  {
   "cell_type": "code",
   "execution_count": 6,
   "metadata": {},
   "outputs": [
    {
     "data": {
      "text/plain": [
       "(31493, 17)"
      ]
     },
     "execution_count": 6,
     "metadata": {},
     "output_type": "execute_result"
    }
   ],
   "source": [
    "subcategorias_arbol = [\n",
    "    'EXTRACCIÓN DE ÁRBOL',\n",
    "    'PODA DE ÁRBOL Y DESPEJE DE LUMINARIA',\n",
    "    'PLANTACIÓN DE ÁRBOL'\n",
    "]\n",
    "\n",
    "arboles = df[df['subcategoria'].isin(subcategorias_arbol)]\n",
    "arboles.shape"
   ]
  },
  {
   "cell_type": "code",
   "execution_count": 12,
   "metadata": {},
   "outputs": [
    {
     "name": "stderr",
     "output_type": "stream",
     "text": [
      "C:\\Users\\44591798\\AppData\\Local\\Temp\\ipykernel_19144\\2456336267.py:1: SettingWithCopyWarning: \n",
      "A value is trying to be set on a copy of a slice from a DataFrame\n",
      "\n",
      "See the caveats in the documentation: https://pandas.pydata.org/pandas-docs/stable/user_guide/indexing.html#returning-a-view-versus-a-copy\n",
      "  arboles['domicilio_comuna'].fillna(0, inplace=True) # comuna == 0 --> NaN\n",
      "C:\\Users\\44591798\\AppData\\Local\\Temp\\ipykernel_19144\\2456336267.py:2: SettingWithCopyWarning: \n",
      "A value is trying to be set on a copy of a slice from a DataFrame.\n",
      "Try using .loc[row_indexer,col_indexer] = value instead\n",
      "\n",
      "See the caveats in the documentation: https://pandas.pydata.org/pandas-docs/stable/user_guide/indexing.html#returning-a-view-versus-a-copy\n",
      "  arboles['domicilio_comuna'] = arboles['domicilio_comuna'].astype(int)\n",
      "C:\\Users\\44591798\\AppData\\Local\\Temp\\ipykernel_19144\\2456336267.py:3: SettingWithCopyWarning: \n",
      "A value is trying to be set on a copy of a slice from a DataFrame\n",
      "\n",
      "See the caveats in the documentation: https://pandas.pydata.org/pandas-docs/stable/user_guide/indexing.html#returning-a-view-versus-a-copy\n",
      "  arboles['domicilio_altura'].fillna(0, inplace=True) # altura == 0 --> NaN\n",
      "C:\\Users\\44591798\\AppData\\Local\\Temp\\ipykernel_19144\\2456336267.py:5: SettingWithCopyWarning: \n",
      "A value is trying to be set on a copy of a slice from a DataFrame.\n",
      "Try using .loc[row_indexer,col_indexer] = value instead\n",
      "\n",
      "See the caveats in the documentation: https://pandas.pydata.org/pandas-docs/stable/user_guide/indexing.html#returning-a-view-versus-a-copy\n",
      "  arboles['domicilio_altura'] = arboles['domicilio_altura'].astype(int)\n",
      "C:\\Users\\44591798\\AppData\\Local\\Temp\\ipykernel_19144\\2456336267.py:6: SettingWithCopyWarning: \n",
      "A value is trying to be set on a copy of a slice from a DataFrame.\n",
      "Try using .loc[row_indexer,col_indexer] = value instead\n",
      "\n",
      "See the caveats in the documentation: https://pandas.pydata.org/pandas-docs/stable/user_guide/indexing.html#returning-a-view-versus-a-copy\n",
      "  arboles['domiclio_calle'] = arboles['domiclio_calle'].str.replace('\"', '')\n"
     ]
    }
   ],
   "source": [
    "arboles['domicilio_comuna'].fillna(0, inplace=True) # comuna == 0 --> NaN\n",
    "arboles['domicilio_comuna'] = arboles['domicilio_comuna'].astype(int)\n",
    "arboles['domicilio_altura'].fillna(0, inplace=True) # altura == 0 --> NaN\n",
    "\n",
    "arboles['domicilio_altura'] = arboles['domicilio_altura'].astype(int)\n",
    "arboles['domiclio_calle'] = arboles['domiclio_calle'].str.replace('\"', '')"
   ]
  },
  {
   "cell_type": "code",
   "execution_count": 13,
   "metadata": {},
   "outputs": [],
   "source": [
    "arboles.to_csv('arboleda.csv', index=False)"
   ]
  }
 ],
 "metadata": {
  "kernelspec": {
   "display_name": "vd",
   "language": "python",
   "name": "python3"
  },
  "language_info": {
   "codemirror_mode": {
    "name": "ipython",
    "version": 3
   },
   "file_extension": ".py",
   "mimetype": "text/x-python",
   "name": "python",
   "nbconvert_exporter": "python",
   "pygments_lexer": "ipython3",
   "version": "3.10.9"
  },
  "orig_nbformat": 4
 },
 "nbformat": 4,
 "nbformat_minor": 2
}
