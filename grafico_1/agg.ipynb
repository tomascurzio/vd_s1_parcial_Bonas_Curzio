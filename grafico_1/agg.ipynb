{
 "cells": [
  {
   "cell_type": "code",
   "execution_count": 1,
   "metadata": {},
   "outputs": [],
   "source": [
    "import pandas as pd\n",
    "\n",
    "df = pd.read_csv('arboleda.csv')\n",
    "\n",
    "vector = []\n",
    "\n",
    "counter1 = 0\n",
    "counter2 = 0\n",
    "plantaabierto = 0\n",
    "plantacerrado = 0\n",
    "podaabierto = 0\n",
    "podacerrado = 0\n",
    "i = 0\n",
    "\n",
    "for j in df['subcategoria']:\n",
    "    if j==\"PLANTACIÓN DE ÁRBOL\":\n",
    "        vector.append(0)\n",
    "        if df['estado_del_contacto'][i] == \"Cerrado\": ## contamos los porcentajes de extracción y plantación a mano.\n",
    "            plantacerrado = plantacerrado + 1\n",
    "        else: \n",
    "            plantaabierto = plantaabierto + 1\n",
    "        counter1 = counter1 + 1\n",
    "        i = i + 1\n",
    "    else:\n",
    "        vector.append(1)\n",
    "        if df['estado_del_contacto'][i] == \"Cerrado\":\n",
    "            podacerrado = podacerrado + 1\n",
    "        else: \n",
    "            podaabierto = podaabierto + 1\n",
    "        counter2= counter2 +1\n",
    "        i = i + 1\n",
    "\n",
    "df['Estado'] = vector \n",
    "\n",
    "df.to_csv('arboleda2.csv', index=False)"
   ]
  }
 ],
 "metadata": {
  "kernelspec": {
   "display_name": "metodos",
   "language": "python",
   "name": "python3"
  },
  "language_info": {
   "codemirror_mode": {
    "name": "ipython",
    "version": 3
   },
   "file_extension": ".py",
   "mimetype": "text/x-python",
   "name": "python",
   "nbconvert_exporter": "python",
   "pygments_lexer": "ipython3",
   "version": "3.10.9"
  },
  "orig_nbformat": 4
 },
 "nbformat": 4,
 "nbformat_minor": 2
}
